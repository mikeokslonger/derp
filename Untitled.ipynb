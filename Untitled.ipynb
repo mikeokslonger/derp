{
 "cells": [
  {
   "cell_type": "code",
   "execution_count": 1,
   "metadata": {},
   "outputs": [
    {
     "data": {
      "text/html": [
       "<script>requirejs.config({paths: { 'plotly': ['https://cdn.plot.ly/plotly-latest.min']},});if(!window.Plotly) {{require(['plotly'],function(plotly) {window.Plotly=plotly;});}}</script>"
      ],
      "text/vnd.plotly.v1+html": [
       "<script>requirejs.config({paths: { 'plotly': ['https://cdn.plot.ly/plotly-latest.min']},});if(!window.Plotly) {{require(['plotly'],function(plotly) {window.Plotly=plotly;});}}</script>"
      ]
     },
     "metadata": {},
     "output_type": "display_data"
    }
   ],
   "source": [
    "from IPython.display import clear_output\n",
    "from plotly import offline as plotly\n",
    "from torch.autograd import Variable\n",
    "from torch.utils.data import DataLoader, Dataset\n",
    "from torch import nn\n",
    "import plotly.graph_objs as go\n",
    "import pandas as pd\n",
    "import torch\n",
    "import tqdm\n",
    "import os\n",
    "\n",
    "plotly.init_notebook_mode(True)\n",
    "np = pd.np\n",
    "\n",
    "### Hyper Parameters\n",
    "LEARNING_RATE = 0.00001 # 0.01 and 0.005 worked eventually\n",
    "BATCH_SIZE = 25000\n",
    "NUM_EPOCHS = 1\n",
    "INPUT_SIZE = NUM_FEATURES = 1\n",
    "HIDDEN_SIZE = 200\n",
    "NUM_CLASSES = 2\n",
    "SEQ_LENGTH = 10\n",
    "NUM_LAYERS = 1"
   ]
  },
  {
   "cell_type": "code",
   "execution_count": null,
   "metadata": {},
   "outputs": [
    {
     "name": "stderr",
     "output_type": "stream",
     "text": [
      "  8%|▊         | 7/87 [00:22<04:18,  3.23s/it]"
     ]
    }
   ],
   "source": [
    "def read_returns(pair):\n",
    "    path = f's3://mikeokslonger-ticks/returns.parquet/pair={pair}/part.0.parquet'\n",
    "    df = pd.read_parquet(path, columns=['time', 'relative_returns', 'buy', 'quantity', 'price'])\n",
    "    return df\n",
    "\n",
    "def create_features(df):\n",
    "    one_hot = np.array([[1, 0],\n",
    "                       [0, 1]], dtype='float32')\n",
    "    df['buy'] = df['buy'].astype(float)\n",
    "    df['label'] = (df.shift(-1)['relative_returns'] > 0.).astype(int)\n",
    "    df['label_onehot'] = df['label'].apply(lambda i: one_hot[i])\n",
    "    df['time'] = (df['time'] - 20180101000000).astype(float)\n",
    "    return df[1:]\n",
    "\n",
    "pairs = ['ADX-USD', 'AIR-USD', 'AMM-USD', 'ATB-USD', 'ATM-USD', 'B2X-USD', 'BCC-USD', 'BCH-USD', 'BCN-USD', 'BMC-USD', 'BNT-USD', 'BQX-USD', 'BTCA-USD', 'BTC-USD', 'BTG-USD', 'BTM-USD', 'BTX-USD', 'CAT-USD', 'CDT-USD', 'CLD-USD', 'CL-USD', 'CND-USD', 'CTR-USD', 'CVC-USD', 'DASH-USD', 'DATA-USD', 'DCN-USD', 'DGB-USD', 'DIM-USD', 'DOGE-USD', 'EBTCOLD-USD', 'EDO-USD', 'EMGO-USD', 'ENJ-USD', 'EOS-USD', 'ETC-USD', 'ETH-USD', 'ETP-USD', 'EVX-USD', 'FUEL-USD', 'FUN-USD', 'ICOS-USD', 'ICX-USD', 'KMD-USD', 'LOC-USD', 'LSK-USD', 'LTC-USD', 'MAID-USD', 'MANA-USD', 'MCO-USD', 'NEO-USD', 'NGC-USD', 'NXT-USD', 'OAX-USD', 'OMG-USD', 'PLR-USD', 'PPC-USD', 'PRG-USD', 'QTUM-USD', 'SMART-USD', 'SMS-USD', 'SNC-USD', 'SNT-USD', 'STRAT-USD', 'STU-USD', 'STX-USD', 'SUB-USD', 'SUR-USD', 'SWFTC-USD', 'TNT-USD', 'TRX-USD', 'UGT-USD', 'UTT-USD', 'VEN-USD', 'VERI-USD', 'VIB-USD', 'WMGO-USD', 'WRC-USD', 'XDN-USD', 'XEM-USD', 'XMR-USD', 'XTZ-USD', 'XUC-USD', 'XVG-USD', 'ZEC-USD', 'ZRX-USD', 'ZSC-USD']\n",
    "pairs = pairs\n",
    "df = pd.concat([create_features(read_returns(pair)) for pair in tqdm.tqdm(pairs)]) # Full dataset\n",
    "df = df[df.relative_returns.abs() > 0]"
   ]
  },
  {
   "cell_type": "code",
   "execution_count": null,
   "metadata": {},
   "outputs": [],
   "source": [
    "1"
   ]
  },
  {
   "cell_type": "code",
   "execution_count": null,
   "metadata": {},
   "outputs": [],
   "source": []
  }
 ],
 "metadata": {
  "kernelspec": {
   "display_name": "Python [conda env:python3]",
   "language": "python",
   "name": "conda-env-python3-py"
  },
  "language_info": {
   "codemirror_mode": {
    "name": "ipython",
    "version": 3
   },
   "file_extension": ".py",
   "mimetype": "text/x-python",
   "name": "python",
   "nbconvert_exporter": "python",
   "pygments_lexer": "ipython3",
   "version": "3.6.5"
  }
 },
 "nbformat": 4,
 "nbformat_minor": 2
}
